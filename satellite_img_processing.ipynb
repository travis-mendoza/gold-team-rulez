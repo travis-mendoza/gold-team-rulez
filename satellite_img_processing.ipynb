{
 "cells": [
  {
   "cell_type": "markdown",
   "metadata": {},
   "source": [
    "# Sat Image Processing\n",
    "\n",
    "The following notebook will grab satellite images and process them. This involves:\n",
    "\n",
    "- Computing the NDVI, GCI and Water Indexes for each image.\n",
    "- Plotting them and saving them.\n",
    "- Computing the average indexes for each DoY \n",
    "- Dividing the images into cell and computing the average indexes for each DoY.\n",
    "- Maybe rotate them?"
   ]
  },
  {
   "cell_type": "code",
   "execution_count": 50,
   "metadata": {},
   "outputs": [
    {
     "data": {
      "text/html": [
       "\n",
       "            <style>\n",
       "                .geemap-dark {\n",
       "                    --jp-widgets-color: white;\n",
       "                    --jp-widgets-label-color: white;\n",
       "                    --jp-ui-font-color1: white;\n",
       "                    --jp-layout-color2: #454545;\n",
       "                    background-color: #383838;\n",
       "                }\n",
       "\n",
       "                .geemap-dark .jupyter-button {\n",
       "                    --jp-layout-color3: #383838;\n",
       "                }\n",
       "\n",
       "                .geemap-colab {\n",
       "                    background-color: var(--colab-primary-surface-color, white);\n",
       "                }\n",
       "\n",
       "                .geemap-colab .jupyter-button {\n",
       "                    --jp-layout-color3: var(--colab-primary-surface-color, white);\n",
       "                }\n",
       "            </style>\n",
       "            "
      ],
      "text/plain": [
       "<IPython.core.display.HTML object>"
      ]
     },
     "metadata": {},
     "output_type": "display_data"
    }
   ],
   "source": [
    "import rasterio\n",
    "from rasterio.plot import show\n",
    "import matplotlib.pyplot as plt\n",
    "import geopandas as gpd\n",
    "import geodatasets\n",
    "from shapely.geometry import box  # Import box to create a bounding box geometry\n",
    "import contextily as ctx\n",
    "import pyproj\n",
    "import numpy as np"
   ]
  },
  {
   "cell_type": "code",
   "execution_count": 66,
   "metadata": {},
   "outputs": [
    {
     "data": {
      "text/html": [
       "\n",
       "            <style>\n",
       "                .geemap-dark {\n",
       "                    --jp-widgets-color: white;\n",
       "                    --jp-widgets-label-color: white;\n",
       "                    --jp-ui-font-color1: white;\n",
       "                    --jp-layout-color2: #454545;\n",
       "                    background-color: #383838;\n",
       "                }\n",
       "\n",
       "                .geemap-dark .jupyter-button {\n",
       "                    --jp-layout-color3: #383838;\n",
       "                }\n",
       "\n",
       "                .geemap-colab {\n",
       "                    background-color: var(--colab-primary-surface-color, white);\n",
       "                }\n",
       "\n",
       "                .geemap-colab .jupyter-button {\n",
       "                    --jp-layout-color3: var(--colab-primary-surface-color, white);\n",
       "                }\n",
       "            </style>\n",
       "            "
      ],
      "text/plain": [
       "<IPython.core.display.HTML object>"
      ]
     },
     "metadata": {},
     "output_type": "display_data"
    },
    {
     "name": "stdout",
     "output_type": "stream",
     "text": [
      "TIF Bounds: BoundingBox(left=-121.50646413187638, bottom=36.981878962687844, right=-121.49509979431059, top=36.9893690942653)\n"
     ]
    },
    {
     "data": {
      "image/png": "[encoded data removed]",
      "text/plain": [
       "<Figure size 1000x1000 with 1 Axes>"
      ]
     },
     "metadata": {},
     "output_type": "display_data"
    }
   ],
   "source": [
    "\n",
    "# Open the TIF file using rasterio\n",
    "tif_path = './data/sat_images/2024-10-06_13-49-16/doy2021337_B5.tif'\n",
    "shapefile_path = \"./data/countries_data_set/ne_110m_admin_0_countries.shp\"\n",
    "\n",
    "# Open the TIF file using rasterio\n",
    "with rasterio.open(tif_path) as src:\n",
    "    fig, ax = plt.subplots(figsize=(10, 10))\n",
    "    # Plot the TIF image\n",
    "    show(src, ax=ax, title=\"Satellite Image\")\n",
    "    \n",
    "    # Get the bounding box of the TIF image\n",
    "    tif_bounds = src.bounds\n",
    "    print(f\"TIF Bounds: {tif_bounds}\")\n",
    "    \n",
    "    # Create a geometry of the TIF bounds (a box)\n",
    "    tif_box = box(tif_bounds.left, tif_bounds.bottom, tif_bounds.right, tif_bounds.top)\n",
    "\n",
    "# Load the world country boundaries from the shapefile\n",
    "world = gpd.read_file(shapefile_path)\n",
    "\n",
    "# Filter the world data to only the countries that intersect with the TIF bounds\n",
    "world_clipped = world[world.intersects(tif_box)]\n",
    "\n",
    "# Plot the boundaries that intersect with the TIF on top of the TIF image\n",
    "world_clipped.boundary.plot(ax=ax, linewidth=1, color='black')\n",
    "\n",
    "# Zoom out by expanding the plot limits by 10%\n",
    "x_margin = (tif_bounds.right - tif_bounds.left) * 2\n",
    "y_margin = (tif_bounds.top - tif_bounds.bottom) * 2\n",
    "\n",
    "\n",
    "# Set the plot limits to zoom out slightly\n",
    "ax.set_xlim([tif_bounds.left - x_margin, tif_bounds.right + x_margin])\n",
    "ax.set_ylim([tif_bounds.bottom - y_margin, tif_bounds.top + y_margin])\n",
    "\n",
    "plt.show()"
   ]
  },
  {
   "cell_type": "code",
   "execution_count": 67,
   "metadata": {},
   "outputs": [
    {
     "data": {
      "text/html": [
       "\n",
       "            <style>\n",
       "                .geemap-dark {\n",
       "                    --jp-widgets-color: white;\n",
       "                    --jp-widgets-label-color: white;\n",
       "                    --jp-ui-font-color1: white;\n",
       "                    --jp-layout-color2: #454545;\n",
       "                    background-color: #383838;\n",
       "                }\n",
       "\n",
       "                .geemap-dark .jupyter-button {\n",
       "                    --jp-layout-color3: #383838;\n",
       "                }\n",
       "\n",
       "                .geemap-colab {\n",
       "                    background-color: var(--colab-primary-surface-color, white);\n",
       "                }\n",
       "\n",
       "                .geemap-colab .jupyter-button {\n",
       "                    --jp-layout-color3: var(--colab-primary-surface-color, white);\n",
       "                }\n",
       "            </style>\n",
       "            "
      ],
      "text/plain": [
       "<IPython.core.display.HTML object>"
      ]
     },
     "metadata": {},
     "output_type": "display_data"
    },
    {
     "name": "stderr",
     "output_type": "stream",
     "text": [
      "C:\\Users\\manny\\AppData\\Local\\Temp\\ipykernel_19500\\3410868869.py:14: RuntimeWarning: invalid value encountered in divide\n",
      "  ndvi = (nir - red) / (nir + red)\n"
     ]
    },
    {
     "data": {
      "image/png": "[encoded data removed]",
      "text/plain": [
       "<Figure size 1000x1000 with 2 Axes>"
      ]
     },
     "metadata": {},
     "output_type": "display_data"
    }
   ],
   "source": [
    "# prompt: Calculate NDVI\n",
    "\n",
    "# Consider the reflectance scale factor from layer metadata\n",
    "scale_factor = 2.75e-05\n",
    "\n",
    "with rasterio.open('./data/sat_images/2024-10-06_13-49-16/doy2024154_B4.tif') as red_band, \\\n",
    "     rasterio.open('./data/sat_images/2024-10-06_13-49-16/doy2024154_B5.tif') as nir_band:\n",
    "\n",
    "    # Read each band\n",
    "    red = red_band.read(1).astype('float32') * scale_factor\n",
    "    nir = nir_band.read(1).astype('float32') * scale_factor\n",
    "\n",
    "    # Calculate NDVI\n",
    "    ndvi = (nir - red) / (nir + red) \n",
    "\n",
    "    # Plot NDVI\n",
    "    plt.figure(figsize=(10, 10))\n",
    "    plt.imshow(ndvi, cmap='RdYlGn')\n",
    "    plt.colorbar(label='NDVI')\n",
    "    plt.title('Normalized Difference Vegetation Index (NDVI)')\n",
    "    plt.axis('off')\n",
    "    plt.show()"
   ]
  },
  {
   "cell_type": "code",
   "execution_count": 85,
   "metadata": {},
   "outputs": [
    {
     "data": {
      "text/html": [
       "\n",
       "            <style>\n",
       "                .geemap-dark {\n",
       "                    --jp-widgets-color: white;\n",
       "                    --jp-widgets-label-color: white;\n",
       "                    --jp-ui-font-color1: white;\n",
       "                    --jp-layout-color2: #454545;\n",
       "                    background-color: #383838;\n",
       "                }\n",
       "\n",
       "                .geemap-dark .jupyter-button {\n",
       "                    --jp-layout-color3: #383838;\n",
       "                }\n",
       "\n",
       "                .geemap-colab {\n",
       "                    background-color: var(--colab-primary-surface-color, white);\n",
       "                }\n",
       "\n",
       "                .geemap-colab .jupyter-button {\n",
       "                    --jp-layout-color3: var(--colab-primary-surface-color, white);\n",
       "                }\n",
       "            </style>\n",
       "            "
      ],
      "text/plain": [
       "<IPython.core.display.HTML object>"
      ]
     },
     "metadata": {},
     "output_type": "display_data"
    }
   ],
   "source": [
    "def get_mean_parameters(date):\n",
    "    # NDVI, GCI, NDWI\n",
    "    \n",
    "    with rasterio.open('./data/sat_images/2024-10-06_13-49-16/doy' + date + '_B4.tif') as red_band, \\\n",
    "         rasterio.open('./data/sat_images/2024-10-06_13-49-16/doy' + date + '_B5.tif') as nir_band, \\\n",
    "         rasterio.open('./data/sat_images/2024-10-06_13-49-16/doy' + date + '_B3.tif') as green_band:\n",
    "\n",
    "        # Read each band\n",
    "        red = red_band.read(1).astype('float32') * scale_factor\n",
    "        nir = nir_band.read(1).astype('float32') * scale_factor\n",
    "        green = green_band.read(1).astype('float32') * scale_factor\n",
    "\n",
    "        # Calculate NDVI\n",
    "        ndvi = (nir - red) / (nir + red) \n",
    "        gci =  (nir / green) - 1 # (green - red) / (green + red)\n",
    "        ndwi = (green - nir) / (green + nir) \n",
    "        \n",
    "    return np.nanmean(ndvi), np.nanmean(gci), np.nanmean(ndwi)\n",
    "        "
   ]
  },
  {
   "cell_type": "code",
   "execution_count": 86,
   "metadata": {},
   "outputs": [
    {
     "data": {
      "text/html": [
       "\n",
       "            <style>\n",
       "                .geemap-dark {\n",
       "                    --jp-widgets-color: white;\n",
       "                    --jp-widgets-label-color: white;\n",
       "                    --jp-ui-font-color1: white;\n",
       "                    --jp-layout-color2: #454545;\n",
       "                    background-color: #383838;\n",
       "                }\n",
       "\n",
       "                .geemap-dark .jupyter-button {\n",
       "                    --jp-layout-color3: #383838;\n",
       "                }\n",
       "\n",
       "                .geemap-colab {\n",
       "                    background-color: var(--colab-primary-surface-color, white);\n",
       "                }\n",
       "\n",
       "                .geemap-colab .jupyter-button {\n",
       "                    --jp-layout-color3: var(--colab-primary-surface-color, white);\n",
       "                }\n",
       "            </style>\n",
       "            "
      ],
      "text/plain": [
       "<IPython.core.display.HTML object>"
      ]
     },
     "metadata": {},
     "output_type": "display_data"
    }
   ],
   "source": [
    "import os\n",
    "from datetime import datetime, timedelta\n",
    "\n",
    "\n",
    "\n",
    "def get_unique_dates_and_raw_strings(directory):\n",
    "    unique_dates = set()  # Use a set to store unique dates\n",
    "    raw_date_strings = set()  # Use a set to store raw date strings\n",
    "\n",
    "    # Iterate through files in the specified directory\n",
    "    for filename in os.listdir(directory):\n",
    "        # Check if the filename matches the expected pattern\n",
    "        if filename.startswith(\"doy\") and filename.endswith(\".tif\"):\n",
    "            # Extract the year and day of the year\n",
    "            year_day = filename[3:10]  # YYYYDDD\n",
    "            \n",
    "            # Extract year and day of year\n",
    "            year = int(year_day[:4])  # YYYY\n",
    "            day_of_year = int(year_day[4:])  # DDD\n",
    "            \n",
    "            # Convert to a date\n",
    "            date = datetime(year, 1, 1) + timedelta(days=day_of_year - 1)\n",
    "            unique_dates.add(date.date())  # Add the date to the set\n",
    "            \n",
    "            # Add the raw date string (YYYYDDD) to the set\n",
    "            raw_date_strings.add(year_day)\n",
    "\n",
    "    # Sort unique dates and create an ordered list of raw date strings\n",
    "    sorted_unique_dates = sorted(unique_dates)\n",
    "    ordered_raw_date_strings = [\n",
    "        f\"{date.year}{date.timetuple().tm_yday:03d}\"  # Recreate the YYYYDDD format\n",
    "        for date in sorted_unique_dates\n",
    "    ]\n",
    "\n",
    "    return sorted_unique_dates, ordered_raw_date_strings  # Return sorted lists of unique dates and raw date strings\n",
    "\n",
    "\n",
    "# Specify your directory path here\n",
    "directory_path = './data/sat_images/2024-10-06_13-49-16/'\n",
    "unique_dates, raw_date_strings = get_unique_dates_and_raw_strings(directory_path)\n"
   ]
  },
  {
   "cell_type": "code",
   "execution_count": 93,
   "metadata": {},
   "outputs": [
    {
     "data": {
      "text/html": [
       "\n",
       "            <style>\n",
       "                .geemap-dark {\n",
       "                    --jp-widgets-color: white;\n",
       "                    --jp-widgets-label-color: white;\n",
       "                    --jp-ui-font-color1: white;\n",
       "                    --jp-layout-color2: #454545;\n",
       "                    background-color: #383838;\n",
       "                }\n",
       "\n",
       "                .geemap-dark .jupyter-button {\n",
       "                    --jp-layout-color3: #383838;\n",
       "                }\n",
       "\n",
       "                .geemap-colab {\n",
       "                    background-color: var(--colab-primary-surface-color, white);\n",
       "                }\n",
       "\n",
       "                .geemap-colab .jupyter-button {\n",
       "                    --jp-layout-color3: var(--colab-primary-surface-color, white);\n",
       "                }\n",
       "            </style>\n",
       "            "
      ],
      "text/plain": [
       "<IPython.core.display.HTML object>"
      ]
     },
     "metadata": {},
     "output_type": "display_data"
    },
    {
     "name": "stderr",
     "output_type": "stream",
     "text": [
      "C:\\Users\\manny\\AppData\\Local\\Temp\\ipykernel_19500\\80149779.py:14: RuntimeWarning: invalid value encountered in divide\n",
      "  ndvi = (nir - red) / (nir + red)\n",
      "C:\\Users\\manny\\AppData\\Local\\Temp\\ipykernel_19500\\80149779.py:15: RuntimeWarning: invalid value encountered in divide\n",
      "  gci = (green - red) / (green + red) # gci = (nir / green) - 1\n",
      "C:\\Users\\manny\\AppData\\Local\\Temp\\ipykernel_19500\\80149779.py:16: RuntimeWarning: invalid value encountered in divide\n",
      "  ndwi = (green - nir) / (green + nir)\n"
     ]
    },
    {
     "data": {
      "text/plain": [
       "(np.float32(0.12505454), np.float32(-0.075098835), np.float32(-0.19825298))"
      ]
     },
     "execution_count": 93,
     "metadata": {},
     "output_type": "execute_result"
    }
   ],
   "source": [
    "all_ndvi = []\n",
    "all_gci = []\n",
    "all_ndwi = []\n",
    "\n",
    "for image_date in raw_date_strings:\n",
    "    mean_ndvi, mean_gci, mean_ndwi = get_mean_parameters(image_date)\n",
    "    "
   ]
  },
  {
   "cell_type": "code",
   "execution_count": null,
   "metadata": {},
   "outputs": [],
   "source": []
  }
 ],
 "metadata": {
  "kernelspec": {
   "display_name": ".venv",
   "language": "python",
   "name": "python3"
  },
  "language_info": {
   "codemirror_mode": {
    "name": "ipython",
    "version": 3
   },
   "file_extension": ".py",
   "mimetype": "text/x-python",
   "name": "python",
   "nbconvert_exporter": "python",
   "pygments_lexer": "ipython3",
   "version": "3.11.4"
  }
 },
 "nbformat": 4,
 "nbformat_minor": 2
}
